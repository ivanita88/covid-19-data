{
  "nbformat": 4,
  "nbformat_minor": 0,
  "metadata": {
    "colab": {
      "provenance": [],
      "authorship_tag": "ABX9TyMdO4M++fNBMPFb420jyPKE",
      "include_colab_link": true
    },
    "kernelspec": {
      "name": "python3",
      "display_name": "Python 3"
    },
    "language_info": {
      "name": "python"
    }
  },
  "cells": [
    {
      "cell_type": "markdown",
      "metadata": {
        "id": "view-in-github",
        "colab_type": "text"
      },
      "source": [
        "<a href=\"https://colab.research.google.com/github/ivanita88/covid-19-data/blob/master/Ejemplo_Jaccard_Similarity.ipynb\" target=\"_parent\"><img src=\"https://colab.research.google.com/assets/colab-badge.svg\" alt=\"Open In Colab\"/></a>"
      ]
    },
    {
      "cell_type": "markdown",
      "source": [
        "Ejemplo Jaccard Similarity\n",
        "https://towardsdatascience.com/overview-of-text-similarity-metrics-3397c4601f50"
      ],
      "metadata": {
        "id": "r9Uggbm5rljX"
      }
    },
    {
      "cell_type": "code",
      "execution_count": 16,
      "metadata": {
        "colab": {
          "base_uri": "https://localhost:8080/"
        },
        "id": "6fL96I2-rhsY",
        "outputId": "96d0915b-b40d-44dc-d378-bf5b00c7afc2"
      },
      "outputs": [
        {
          "output_type": "stream",
          "name": "stdout",
          "text": [
            "Textos a comparar:\n",
            "str1= AI is our friend and it has been friendly,\n",
            "str2= AI and humans have always been friendly\n",
            "Conjuntos:\n",
            "{'it', 'friend', 'has', 'our', 'is', 'AI', 'and', 'been', 'friendly'}\n",
            "{'have', 'always', 'AI', 'and', 'humans', 'been', 'friendly'}\n",
            "{'friendly', 'been', 'AI', 'and'}\n",
            "Tamaños:\n",
            "9\n",
            "7\n",
            "4\n",
            "0.3333333333333333\n"
          ]
        }
      ],
      "source": [
        "\n",
        "\n",
        "str1= \"AI is our friend and it has been friendly\"\n",
        "str2= \"AI and humans have always been friendly\"\n",
        "\n",
        "def get_jaccard_sim(str1,str2):\n",
        "  print(\"Textos a comparar:\")\n",
        "  print(\"str1= \"+str1+\",\\nstr2= \"+str2)\n",
        "\n",
        "  print(\"Conjuntos:\")\n",
        "  a= set(str1.split())\n",
        "  print(a)\n",
        "  b= set(str2.split())\n",
        "  print(b)\n",
        "  c= a.intersection(b)\n",
        "  print(c)\n",
        "\n",
        "  print(\"Tamaños:\")\n",
        "  print(len(a))\n",
        "  print(len(b))\n",
        "  print(len(c))\n",
        "\n",
        "\n",
        "  return float(len(c)) / (len(a) + len(b) - len(c))\n",
        "\n",
        "print(get_jaccard_sim(str1, str2))"
      ]
    },
    {
      "cell_type": "markdown",
      "source": [
        "**Jaccard similarity and Jaccard distance in Python**\n",
        "\n",
        "https://pyshark.com/jaccard-similarity-and-jaccard-distance-in-python/#:~:text=In%20Python%20programming%2C%20Jaccard%20similarity,set%20intersection%20over%20set%20union."
      ],
      "metadata": {
        "id": "VMFcZANzwwWV"
      }
    },
    {
      "cell_type": "markdown",
      "source": [
        "# **Calculate Jaccard similarity in Python**"
      ],
      "metadata": {
        "id": "ilj_Bche2_Kq"
      }
    },
    {
      "cell_type": "code",
      "source": [
        "%pip install scipy\n",
        "%pip install sklearn\n",
        "%pip install numpy"
      ],
      "metadata": {
        "colab": {
          "base_uri": "https://localhost:8080/"
        },
        "id": "JgyrCrCB2g3S",
        "outputId": "3d3afe81-26cd-491a-b3d9-e378dc0afc3d"
      },
      "execution_count": 19,
      "outputs": [
        {
          "output_type": "stream",
          "name": "stdout",
          "text": [
            "Requirement already satisfied: scipy in /usr/local/lib/python3.10/dist-packages (1.10.1)\n",
            "Requirement already satisfied: numpy<1.27.0,>=1.19.5 in /usr/local/lib/python3.10/dist-packages (from scipy) (1.22.4)\n",
            "Collecting sklearn\n",
            "  Using cached sklearn-0.0.post5.tar.gz (3.7 kB)\n",
            "  Preparing metadata (setup.py) ... \u001b[?25l\u001b[?25hdone\n",
            "Building wheels for collected packages: sklearn\n",
            "  Building wheel for sklearn (setup.py) ... \u001b[?25l\u001b[?25hdone\n",
            "  Created wheel for sklearn: filename=sklearn-0.0.post5-py3-none-any.whl size=2950 sha256=f1fe6bff1a1ddb94b8ec7385128593a3e3b5067b4c64daf97d0bf55b4db49112\n",
            "  Stored in directory: /root/.cache/pip/wheels/38/1f/8d/4f812c590e074c1e928f5cec67bf5053b71f38e2648739403a\n",
            "Successfully built sklearn\n",
            "Installing collected packages: sklearn\n",
            "Successfully installed sklearn-0.0.post5\n",
            "Requirement already satisfied: numpy in /usr/local/lib/python3.10/dist-packages (1.22.4)\n"
          ]
        }
      ]
    },
    {
      "cell_type": "code",
      "source": [
        "A = {1, 2, 3, 5, 7}\n",
        "B = {1, 2, 4, 8, 9}\n",
        "\n",
        "def jaccard_similarity(A, B):\n",
        "    #Find intersection of two sets\n",
        "    nominator = A.intersection(B)\n",
        "\n",
        "    #Find union of two sets\n",
        "    denominator = A.union(B)\n",
        "\n",
        "    #Take the ratio of sizes\n",
        "    similarity = len(nominator)/len(denominator)\n",
        "\n",
        "    return similarity\n",
        "\n",
        "similarity = jaccard_similarity(A, B)\n",
        "\n",
        "print(similarity)\n"
      ],
      "metadata": {
        "colab": {
          "base_uri": "https://localhost:8080/"
        },
        "id": "qspzOIYt2fi6",
        "outputId": "b9d9d1ec-88d5-4473-fef1-f40e06547f98"
      },
      "execution_count": 21,
      "outputs": [
        {
          "output_type": "stream",
          "name": "stdout",
          "text": [
            "0.25\n"
          ]
        }
      ]
    },
    {
      "cell_type": "markdown",
      "source": [
        "# **Calculate Jaccard distance in Python**"
      ],
      "metadata": {
        "id": "atU3bBQh3HoS"
      }
    },
    {
      "cell_type": "code",
      "source": [
        "A = {1, 2, 3, 5, 7}\n",
        "B = {1, 2, 4, 8, 9}\n",
        "\n",
        "def jaccard_distance(A, B):\n",
        "    #Find symmetric difference of two sets\n",
        "    nominator = A.symmetric_difference(B)\n",
        "\n",
        "    #Find union of two sets\n",
        "    denominator = A.union(B)\n",
        "\n",
        "    #Take the ratio of sizes\n",
        "    distance = len(nominator)/len(denominator)\n",
        "\n",
        "    return distance\n",
        "\n",
        "distance = jaccard_distance(A, B)\n",
        "\n",
        "\n",
        "print(distance)"
      ],
      "metadata": {
        "colab": {
          "base_uri": "https://localhost:8080/"
        },
        "id": "UxHwPqCa3KDk",
        "outputId": "bd316654-722f-4ad2-c421-6dfb39b9c2f3"
      },
      "execution_count": 22,
      "outputs": [
        {
          "output_type": "stream",
          "name": "stdout",
          "text": [
            "0.75\n"
          ]
        }
      ]
    }
  ]
}